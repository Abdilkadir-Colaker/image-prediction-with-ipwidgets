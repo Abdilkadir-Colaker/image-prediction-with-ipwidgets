{
 "cells": [
  {
   "cell_type": "code",
   "execution_count": 1,
   "metadata": {
    "scrolled": false
   },
   "outputs": [
    {
     "data": {
      "application/vnd.jupyter.widget-view+json": {
       "model_id": "0b69fbcd826343f19a0862bd6ee57347",
       "version_major": 2,
       "version_minor": 0
      },
      "text/plain": [
       "VBox(children=(Label(value='Upload a Image and see what is inside it! ( First prediction may take a minute )')…"
      ]
     },
     "metadata": {},
     "output_type": "display_data"
    }
   ],
   "source": [
    "#pip install ipywidgets\n",
    "#pip install tensorflow\n",
    "#...\n",
    "#import libraries\n",
    "from ipywidgets.widgets import Label, FloatProgress, FloatSlider, Button, FileUpload, Image, Text, Output\n",
    "from ipywidgets.widgets import Layout, HBox, VBox\n",
    "from IPython.display import display, clear_output, Image\n",
    "from tensorflow import keras\n",
    "from keras.models import Sequential\n",
    "from keras.layers import Dense, Flatten, Conv2D, MaxPooling2D, Dropout\n",
    "from tensorflow.keras import layers\n",
    "from PIL import Image\n",
    "from keras.utils import to_categorical\n",
    "from tensorflow.keras.preprocessing import image\n",
    "from tensorflow.keras.applications import imagenet_utils\n",
    "import sys\n",
    "from termcolor import colored, cprint\n",
    "import numpy as np\n",
    "import bqplot as bq\n",
    "import tensorflow as tf\n",
    "import time\n",
    "import threading\n",
    "import io\n",
    "import matplotlib.pyplot as plt\n",
    "plt.style.use('fivethirtyeight')\n",
    "#Label widget\n",
    "lbl = Label(\n",
    "        value='Upload a Image and see what is inside it! ( First prediction may take a minute )'\n",
    "                 )\n",
    "#Fileupload widget for upload image\n",
    "uploader = FileUpload(\n",
    "    accept='image/*',  # Accepted file image'\n",
    "    multiple=False # Can upload only one image per click\n",
    "         )\n",
    "#button widget\n",
    "button = Button(description='Predict Image')\n",
    "#output widget\n",
    "out = Output()\n",
    "def on_button_clicked(_): # button on click func\n",
    "    if bool(uploader.value) == True:\n",
    "        with out:\n",
    "            mobile = tf.keras.applications.mobilenet.MobileNet() # mobilenet model calling\n",
    "            mobile1 = tf.keras.applications.mobilenet_v2.MobileNetV2() # mobilenet2 model calling\n",
    "            for name, file_info in uploader.value.items(): # getting image data from uploader\n",
    "                filename = Image.open(io.BytesIO(file_info['content'])) \n",
    "            filename = filename.resize((224,224),Image.ANTIALIAS) # optimize image for model\n",
    "            resized_img = image.img_to_array(filename)\n",
    "            final_image = np.expand_dims(resized_img, axis=0)\n",
    "            final_image= tf.keras.applications.mobilenet.preprocess_input(final_image)   \n",
    "            prediction = mobile.predict(final_image) #mobilenet model with uploaded image\n",
    "            prediction1 = mobile1.predict(final_image) #mobilenetv2 model with uploaded image\n",
    "            results = imagenet_utils.decode_predictions(prediction) #mobilenet prediction\n",
    "            results1 = imagenet_utils.decode_predictions(prediction1) #mobilenetv2 prediction\n",
    "            name='' # output for mobilenet prediction\n",
    "            for x in range(len(results[0])):\n",
    "                name+=str(int(results[0][x][2]*100))+'% possibility of '+results[0][x][1]+', '\n",
    "            name = name.replace(\"_\", \" \")\n",
    "            name1=''  # output for mobilenetv2 prediction\n",
    "            for y in range(len(results1[0])):\n",
    "                name1+=str(int(results1[0][y][2]*100))+'% possibility of '+results1[0][y][1]+', '\n",
    "            name1 = name1.replace(\"_\", \" \")\n",
    "            im = Image.open(io.BytesIO(file_info['content'])) #uploaded image\n",
    "            clear_output()     #clear output for next prediction   \n",
    "            text = colored('First Prediction of Image Content:', 'red', attrs=['reverse', 'blink']) #print outputs\n",
    "            text1 = colored('Second Prediction of Image Content:', 'red', attrs=['reverse', 'blink'])\n",
    "            print(text)\n",
    "            print(name[:-2]+ '.')\n",
    "            print(text1)\n",
    "            print(name1[:-2]+ '.')\n",
    "            display(im) #displaying uploaded image\n",
    "    else: #button warning if there is no uploaded image\n",
    "        with out:\n",
    "            clear_output()\n",
    "            print('You did not upload image!')\n",
    "\n",
    "# link button on click func\n",
    "button.on_click(on_button_clicked) #button onclick\n",
    "# displaying everything with vertical box widget\n",
    "VBox([lbl,uploader,button,out]) #all ipwidgets in vertical box"
   ]
  }
 ],
 "metadata": {
  "kernelspec": {
   "display_name": "Python 3",
   "language": "python",
   "name": "python3"
  },
  "language_info": {
   "codemirror_mode": {
    "name": "ipython",
    "version": 3
   },
   "file_extension": ".py",
   "mimetype": "text/x-python",
   "name": "python",
   "nbconvert_exporter": "python",
   "pygments_lexer": "ipython3",
   "version": "3.8.5"
  }
 },
 "nbformat": 4,
 "nbformat_minor": 4
}
